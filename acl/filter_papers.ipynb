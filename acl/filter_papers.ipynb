{
 "cells": [
  {
   "cell_type": "code",
   "execution_count": 1,
   "metadata": {
    "collapsed": true,
    "pycharm": {
     "name": "#%%\n"
    }
   },
   "outputs": [],
   "source": [
    "import os\n",
    "import re\n",
    "import matplotlib\n",
    "import pandas as pd\n",
    "import seaborn as sns\n",
    "import matplotlib.pyplot as plt\n",
    "\n",
    "from tqdm import tqdm\n",
    "from fpdf import FPDF\n",
    "from pathlib import Path\n",
    "\n",
    "%matplotlib inline\n",
    "\n",
    "tqdm.pandas()"
   ]
  },
  {
   "cell_type": "code",
   "execution_count": 2,
   "outputs": [],
   "source": [
    "acl_anthology_path = r\"C:\\Data\\anthology+abstracts\""
   ],
   "metadata": {
    "collapsed": false,
    "pycharm": {
     "name": "#%%\n"
    }
   }
  },
  {
   "cell_type": "code",
   "execution_count": 3,
   "outputs": [],
   "source": [
    "acl_df = pd.read_pickle(acl_anthology_path + os.sep + 'anthology+abstracts_df.pkl')"
   ],
   "metadata": {
    "collapsed": false,
    "pycharm": {
     "name": "#%%\n"
    }
   }
  },
  {
   "cell_type": "code",
   "execution_count": 4,
   "outputs": [],
   "source": [
    "def is_in_text(text, exp):\n",
    "    ret = re.search(exp, text, re.I|re.M) is not None\n",
    "    return ret\n",
    "\n",
    "def find_papers(all_papers, exp):\n",
    "    return all_papers[all_papers.apply(\n",
    "        lambda row: is_in_text(str(row['title']), exp) and is_in_text(str(row['abstract']), exp),\n",
    "        axis=1\n",
    "    )]\n",
    "\n",
    "def generate_abstracts_pdf(papers, path):\n",
    "    pdf = FPDF()\n",
    "    for i, row in papers.iterrows():\n",
    "        pdf.add_page()\n",
    "        pdf.set_font(\"Arial\", size = 14)\n",
    "        pdf.multi_cell(\n",
    "            190, 20, align='C',\n",
    "            txt=f\"{row['title'].encode('utf-8').decode('latin-1','ignore')} ({row['year'].encode('utf-8').decode('latin-1','ignore')})\"\n",
    "        )\n",
    "        pdf.set_font(\"Arial\", size = 12)\n",
    "        pdf.multi_cell(\n",
    "            190, 10, align='L',border=True,\n",
    "            txt=row['abstract'].encode('utf-8').decode('latin-1','ignore')\n",
    "        )\n",
    "    pdf.output(path + os.sep + 'papers.pdf')\n",
    "\n",
    "def find_papers_and_save(all_papers, exp, path):\n",
    "    Path(path).mkdir(parents=True, exist_ok=True)\n",
    "    papers = find_papers(all_papers, exp)\n",
    "    if len(papers) > 0:\n",
    "        papers.to_excel(path + os.sep + 'papers.xlsx')\n",
    "        papers.to_pickle(path + os.sep + 'papers.pkl')\n",
    "        generate_abstracts_pdf(papers, path)\n",
    "        plot_year_dist(papers)\n",
    "        return papers\n",
    "    else:\n",
    "        return None\n",
    "\n",
    "def plot_year_dist(papers):\n",
    "    year_paper_dist = papers['year'].value_counts().reset_index()\n",
    "    sns.barplot(data=year_paper_dist, x='index', y='year')"
   ],
   "metadata": {
    "collapsed": false,
    "pycharm": {
     "name": "#%%\n"
    }
   }
  },
  {
   "cell_type": "code",
   "execution_count": 8,
   "outputs": [
    {
     "data": {
      "text/plain": "<Figure size 432x288 with 1 Axes>",
      "image/png": "[encoded data removed]"
     },
     "metadata": {
      "needs_background": "light"
     },
     "output_type": "display_data"
    }
   ],
   "source": [
    "summarization_save_path = acl_anthology_path + os.sep + 'acl_summarization'\n",
    "summ_papers = find_papers_and_save(acl_df, r'summarization', summarization_save_path)"
   ],
   "metadata": {
    "collapsed": false,
    "pycharm": {
     "name": "#%%\n"
    }
   }
  },
  {
   "cell_type": "code",
   "execution_count": 10,
   "outputs": [
    {
     "data": {
      "text/plain": "<Figure size 432x288 with 1 Axes>",
      "image/png": "[encoded data removed]"
     },
     "metadata": {
      "needs_background": "light"
     },
     "output_type": "display_data"
    }
   ],
   "source": [
    "summarization_save_path = acl_anthology_path + os.sep + 'acl_guided_summarization'\n",
    "guided_summ_papers = find_papers_and_save(acl_df, r'(guided|guiding|guide|personalized|directed).*summarization', summarization_save_path)"
   ],
   "metadata": {
    "collapsed": false,
    "pycharm": {
     "name": "#%%\n"
    }
   }
  }
 ],
 "metadata": {
  "kernelspec": {
   "display_name": "Python 3",
   "language": "python",
   "name": "python3"
  },
  "language_info": {
   "codemirror_mode": {
    "name": "ipython",
    "version": 2
   },
   "file_extension": ".py",
   "mimetype": "text/x-python",
   "name": "python",
   "nbconvert_exporter": "python",
   "pygments_lexer": "ipython2",
   "version": "2.7.6"
  }
 },
 "nbformat": 4,
 "nbformat_minor": 0
}